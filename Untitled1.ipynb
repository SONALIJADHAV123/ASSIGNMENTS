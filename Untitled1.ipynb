{
 "cells": [
  {
   "cell_type": "code",
   "execution_count": 1,
   "id": "4ec71ee5-b528-4d04-bfee-c9f3f629ce5c",
   "metadata": {},
   "outputs": [],
   "source": [
    "#Type conversion >> The process of changing the process of a value or object in python/type cast "
   ]
  },
  {
   "cell_type": "code",
   "execution_count": 2,
   "id": "805c6be7-a341-48d4-a3f7-b51bb925622f",
   "metadata": {},
   "outputs": [],
   "source": [
    "a = '44'"
   ]
  },
  {
   "cell_type": "code",
   "execution_count": 3,
   "id": "2de19210-611f-4bbe-afc3-5f8359cf7b35",
   "metadata": {},
   "outputs": [
    {
     "data": {
      "text/plain": [
       "str"
      ]
     },
     "execution_count": 3,
     "metadata": {},
     "output_type": "execute_result"
    }
   ],
   "source": [
    "type(a)"
   ]
  },
  {
   "cell_type": "code",
   "execution_count": 4,
   "id": "390dd42d-64d3-4d08-befb-8a1a27988b8c",
   "metadata": {},
   "outputs": [
    {
     "ename": "TypeError",
     "evalue": "can only concatenate str (not \"int\") to str",
     "output_type": "error",
     "traceback": [
      "\u001b[0;31m---------------------------------------------------------------------------\u001b[0m",
      "\u001b[0;31mTypeError\u001b[0m                                 Traceback (most recent call last)",
      "Cell \u001b[0;32mIn[4], line 1\u001b[0m\n\u001b[0;32m----> 1\u001b[0m \u001b[43ma\u001b[49m\u001b[38;5;241;43m+\u001b[39;49m\u001b[38;5;241;43m8\u001b[39;49m\n",
      "\u001b[0;31mTypeError\u001b[0m: can only concatenate str (not \"int\") to str"
     ]
    }
   ],
   "source": [
    "a+8"
   ]
  },
  {
   "cell_type": "code",
   "execution_count": 5,
   "id": "cf825ae2-7086-4985-98b1-65c29f09cbe6",
   "metadata": {},
   "outputs": [
    {
     "data": {
      "text/plain": [
       "int"
      ]
     },
     "execution_count": 5,
     "metadata": {},
     "output_type": "execute_result"
    }
   ],
   "source": [
    "type(8)"
   ]
  },
  {
   "cell_type": "code",
   "execution_count": 6,
   "id": "96d0f611-baeb-45c1-926c-e39d2c7270a6",
   "metadata": {},
   "outputs": [],
   "source": [
    "# Type casting >> implicit and explicit"
   ]
  },
  {
   "cell_type": "code",
   "execution_count": 9,
   "id": "99fcb05c-84cc-4bb8-8d27-b97897104bec",
   "metadata": {},
   "outputs": [],
   "source": [
    "p = 4  # 1] python automatically understand this is int thats called imlicit"
   ]
  },
  {
   "cell_type": "code",
   "execution_count": 8,
   "id": "8e2f1d10-2ee7-4241-8c77-fe7e6285b3af",
   "metadata": {},
   "outputs": [
    {
     "data": {
      "text/plain": [
       "int"
      ]
     },
     "execution_count": 8,
     "metadata": {},
     "output_type": "execute_result"
    }
   ],
   "source": [
    "type(p)"
   ]
  },
  {
   "cell_type": "code",
   "execution_count": 10,
   "id": "cb73cc5a-c06d-4a53-b48c-8f87e66d9240",
   "metadata": {},
   "outputs": [
    {
     "data": {
      "text/plain": [
       "13.555"
      ]
     },
     "execution_count": 10,
     "metadata": {},
     "output_type": "execute_result"
    }
   ],
   "source": [
    "4+9.555"
   ]
  },
  {
   "cell_type": "code",
   "execution_count": 11,
   "id": "98476776-4f70-43ca-8878-7fe90c11b889",
   "metadata": {},
   "outputs": [],
   "source": [
    "#concatiate"
   ]
  },
  {
   "cell_type": "code",
   "execution_count": 12,
   "id": "4ad805ad-3475-438b-bddd-e084efe3f834",
   "metadata": {},
   "outputs": [
    {
     "data": {
      "text/plain": [
       "'Ganson'"
      ]
     },
     "execution_count": 12,
     "metadata": {},
     "output_type": "execute_result"
    }
   ],
   "source": [
    "\"Gan\"+\"son\""
   ]
  },
  {
   "cell_type": "code",
   "execution_count": 13,
   "id": "fad3836a-f58d-48aa-91f7-a47b0394850a",
   "metadata": {},
   "outputs": [],
   "source": [
    "s=  \"49\""
   ]
  },
  {
   "cell_type": "code",
   "execution_count": 15,
   "id": "7671c548-6265-4b73-a771-afb9419346b5",
   "metadata": {},
   "outputs": [
    {
     "data": {
      "text/plain": [
       "'49sham'"
      ]
     },
     "execution_count": 15,
     "metadata": {},
     "output_type": "execute_result"
    }
   ],
   "source": [
    "s+\"sham\""
   ]
  },
  {
   "cell_type": "code",
   "execution_count": 17,
   "id": "0ed32dae-01cf-4f5c-9c89-21a5d333264d",
   "metadata": {},
   "outputs": [],
   "source": [
    "# 2] explicit tyoe conversion >> convert data type using inbuilt function \n",
    "# string\n",
    "# int\n",
    "# floot\n",
    "# bool"
   ]
  },
  {
   "cell_type": "code",
   "execution_count": 18,
   "id": "73306ea0-27e6-4658-8cc8-39c77746cd53",
   "metadata": {},
   "outputs": [],
   "source": [
    "r = 33.4\n",
    "r = int(33.5)"
   ]
  },
  {
   "cell_type": "code",
   "execution_count": 19,
   "id": "085f5e32-548b-41a5-8eb4-0569bc54ea4c",
   "metadata": {},
   "outputs": [
    {
     "data": {
      "text/plain": [
       "int"
      ]
     },
     "execution_count": 19,
     "metadata": {},
     "output_type": "execute_result"
    }
   ],
   "source": [
    "type(r)"
   ]
  },
  {
   "cell_type": "code",
   "execution_count": 20,
   "id": "4828bb9a-7f63-4367-ac5d-f8ac6c8062d7",
   "metadata": {},
   "outputs": [
    {
     "data": {
      "text/plain": [
       "33"
      ]
     },
     "execution_count": 20,
     "metadata": {},
     "output_type": "execute_result"
    }
   ],
   "source": [
    "r"
   ]
  },
  {
   "cell_type": "code",
   "execution_count": 23,
   "id": "515cf9fd-dbf7-44db-b069-6b493dab1c43",
   "metadata": {},
   "outputs": [],
   "source": [
    "d = '85'\n",
    "L = int(d)"
   ]
  },
  {
   "cell_type": "code",
   "execution_count": 24,
   "id": "7ed8549c-6ed2-49bd-9ae1-e7669f526b86",
   "metadata": {},
   "outputs": [
    {
     "data": {
      "text/plain": [
       "int"
      ]
     },
     "execution_count": 24,
     "metadata": {},
     "output_type": "execute_result"
    }
   ],
   "source": [
    "type (L)"
   ]
  },
  {
   "cell_type": "code",
   "execution_count": 25,
   "id": "1ac91060-8c94-4998-89ce-bcb8685822eb",
   "metadata": {},
   "outputs": [
    {
     "data": {
      "text/plain": [
       "str"
      ]
     },
     "execution_count": 25,
     "metadata": {},
     "output_type": "execute_result"
    }
   ],
   "source": [
    "type(d)"
   ]
  },
  {
   "cell_type": "code",
   "execution_count": 26,
   "id": "40b0c35f-ca7b-4953-a33d-63b379b9a59d",
   "metadata": {},
   "outputs": [
    {
     "data": {
      "text/plain": [
       "False"
      ]
     },
     "execution_count": 26,
     "metadata": {},
     "output_type": "execute_result"
    }
   ],
   "source": [
    "bool(0)"
   ]
  },
  {
   "cell_type": "code",
   "execution_count": 27,
   "id": "34d3cdb8-0c59-46ff-8dce-7a811f9acc34",
   "metadata": {},
   "outputs": [
    {
     "data": {
      "text/plain": [
       "True"
      ]
     },
     "execution_count": 27,
     "metadata": {},
     "output_type": "execute_result"
    }
   ],
   "source": [
    "bool(1)"
   ]
  },
  {
   "cell_type": "code",
   "execution_count": 28,
   "id": "3ccb660c-f1f4-4fe1-9383-469ce7bd79d4",
   "metadata": {},
   "outputs": [],
   "source": [
    "y = \"jam\""
   ]
  },
  {
   "cell_type": "code",
   "execution_count": 30,
   "id": "ce6aa05c-3bb6-4360-9fa7-69c1bf4ab5f1",
   "metadata": {},
   "outputs": [
    {
     "ename": "NameError",
     "evalue": "name 'floot' is not defined",
     "output_type": "error",
     "traceback": [
      "\u001b[0;31m---------------------------------------------------------------------------\u001b[0m",
      "\u001b[0;31mNameError\u001b[0m                                 Traceback (most recent call last)",
      "Cell \u001b[0;32mIn[30], line 1\u001b[0m\n\u001b[0;32m----> 1\u001b[0m \u001b[43mfloot\u001b[49m(y)\n",
      "\u001b[0;31mNameError\u001b[0m: name 'floot' is not defined"
     ]
    }
   ],
   "source": [
    "floot(y)"
   ]
  },
  {
   "cell_type": "code",
   "execution_count": null,
   "id": "df29d5af-9d83-4d55-9ee8-5980675ce515",
   "metadata": {},
   "outputs": [],
   "source": []
  }
 ],
 "metadata": {
  "kernelspec": {
   "display_name": "Python 3 (ipykernel)",
   "language": "python",
   "name": "python3"
  },
  "language_info": {
   "codemirror_mode": {
    "name": "ipython",
    "version": 3
   },
   "file_extension": ".py",
   "mimetype": "text/x-python",
   "name": "python",
   "nbconvert_exporter": "python",
   "pygments_lexer": "ipython3",
   "version": "3.10.8"
  }
 },
 "nbformat": 4,
 "nbformat_minor": 5
}
